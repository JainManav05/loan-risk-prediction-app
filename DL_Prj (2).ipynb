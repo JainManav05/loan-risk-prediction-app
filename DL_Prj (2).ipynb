{
 "cells": [
  {
   "cell_type": "code",
   "execution_count": 41,
   "id": "97feb744-64b6-43b0-a77b-2163ffb68603",
   "metadata": {},
   "outputs": [],
   "source": [
    "import pandas as pd\n",
    "import numpy as np\n",
    "import matplotlib.pyplot as plt\n",
    "import seaborn as sns "
   ]
  },
  {
   "cell_type": "code",
   "execution_count": null,
   "id": "a0f5106f-a3f2-4f2b-b043-a06af656d1e3",
   "metadata": {},
   "outputs": [],
   "source": [
    "# Load the dataset\n",
    "try:\n",
    "    df = pd.read_csv('C:/Users/ADMIN/Downloads/accepted_2007_to_2018Q4.csv.gz', compression='gzip', low_memory=False)\n",
    "    print(\"Dataset loaded successfully!\")\n",
    "    print(df.shape)\n",
    "except FileNotFoundError:\n",
    "    print(\"Dataset file not found. Please ensure you've downloaded it correctly.\")\n",
    "\n",
    "df.info()"
   ]
  },
  {
   "cell_type": "code",
   "execution_count": null,
   "id": "b771e221-24ec-4a78-a610-247676714b40",
   "metadata": {},
   "outputs": [
    {
     "data": {
      "text/html": [
       "<div>\n",
       "<style scoped>\n",
       "    .dataframe tbody tr th:only-of-type {\n",
       "        vertical-align: middle;\n",
       "    }\n",
       "\n",
       "    .dataframe tbody tr th {\n",
       "        vertical-align: top;\n",
       "    }\n",
       "\n",
       "    .dataframe thead th {\n",
       "        text-align: right;\n",
       "    }\n",
       "</style>\n",
       "<table border=\"1\" class=\"dataframe\">\n",
       "  <thead>\n",
       "    <tr style=\"text-align: right;\">\n",
       "      <th></th>\n",
       "      <th>id</th>\n",
       "      <th>member_id</th>\n",
       "      <th>loan_amnt</th>\n",
       "      <th>funded_amnt</th>\n",
       "      <th>funded_amnt_inv</th>\n",
       "      <th>term</th>\n",
       "      <th>int_rate</th>\n",
       "      <th>installment</th>\n",
       "      <th>grade</th>\n",
       "      <th>sub_grade</th>\n",
       "      <th>...</th>\n",
       "      <th>hardship_payoff_balance_amount</th>\n",
       "      <th>hardship_last_payment_amount</th>\n",
       "      <th>disbursement_method</th>\n",
       "      <th>debt_settlement_flag</th>\n",
       "      <th>debt_settlement_flag_date</th>\n",
       "      <th>settlement_status</th>\n",
       "      <th>settlement_date</th>\n",
       "      <th>settlement_amount</th>\n",
       "      <th>settlement_percentage</th>\n",
       "      <th>settlement_term</th>\n",
       "    </tr>\n",
       "  </thead>\n",
       "  <tbody>\n",
       "    <tr>\n",
       "      <th>0</th>\n",
       "      <td>68407277</td>\n",
       "      <td>NaN</td>\n",
       "      <td>3600.0</td>\n",
       "      <td>3600.0</td>\n",
       "      <td>3600.0</td>\n",
       "      <td>36 months</td>\n",
       "      <td>13.99</td>\n",
       "      <td>123.03</td>\n",
       "      <td>C</td>\n",
       "      <td>C4</td>\n",
       "      <td>...</td>\n",
       "      <td>NaN</td>\n",
       "      <td>NaN</td>\n",
       "      <td>Cash</td>\n",
       "      <td>N</td>\n",
       "      <td>NaN</td>\n",
       "      <td>NaN</td>\n",
       "      <td>NaN</td>\n",
       "      <td>NaN</td>\n",
       "      <td>NaN</td>\n",
       "      <td>NaN</td>\n",
       "    </tr>\n",
       "    <tr>\n",
       "      <th>1</th>\n",
       "      <td>68355089</td>\n",
       "      <td>NaN</td>\n",
       "      <td>24700.0</td>\n",
       "      <td>24700.0</td>\n",
       "      <td>24700.0</td>\n",
       "      <td>36 months</td>\n",
       "      <td>11.99</td>\n",
       "      <td>820.28</td>\n",
       "      <td>C</td>\n",
       "      <td>C1</td>\n",
       "      <td>...</td>\n",
       "      <td>NaN</td>\n",
       "      <td>NaN</td>\n",
       "      <td>Cash</td>\n",
       "      <td>N</td>\n",
       "      <td>NaN</td>\n",
       "      <td>NaN</td>\n",
       "      <td>NaN</td>\n",
       "      <td>NaN</td>\n",
       "      <td>NaN</td>\n",
       "      <td>NaN</td>\n",
       "    </tr>\n",
       "    <tr>\n",
       "      <th>2</th>\n",
       "      <td>68341763</td>\n",
       "      <td>NaN</td>\n",
       "      <td>20000.0</td>\n",
       "      <td>20000.0</td>\n",
       "      <td>20000.0</td>\n",
       "      <td>60 months</td>\n",
       "      <td>10.78</td>\n",
       "      <td>432.66</td>\n",
       "      <td>B</td>\n",
       "      <td>B4</td>\n",
       "      <td>...</td>\n",
       "      <td>NaN</td>\n",
       "      <td>NaN</td>\n",
       "      <td>Cash</td>\n",
       "      <td>N</td>\n",
       "      <td>NaN</td>\n",
       "      <td>NaN</td>\n",
       "      <td>NaN</td>\n",
       "      <td>NaN</td>\n",
       "      <td>NaN</td>\n",
       "      <td>NaN</td>\n",
       "    </tr>\n",
       "    <tr>\n",
       "      <th>3</th>\n",
       "      <td>66310712</td>\n",
       "      <td>NaN</td>\n",
       "      <td>35000.0</td>\n",
       "      <td>35000.0</td>\n",
       "      <td>35000.0</td>\n",
       "      <td>60 months</td>\n",
       "      <td>14.85</td>\n",
       "      <td>829.90</td>\n",
       "      <td>C</td>\n",
       "      <td>C5</td>\n",
       "      <td>...</td>\n",
       "      <td>NaN</td>\n",
       "      <td>NaN</td>\n",
       "      <td>Cash</td>\n",
       "      <td>N</td>\n",
       "      <td>NaN</td>\n",
       "      <td>NaN</td>\n",
       "      <td>NaN</td>\n",
       "      <td>NaN</td>\n",
       "      <td>NaN</td>\n",
       "      <td>NaN</td>\n",
       "    </tr>\n",
       "    <tr>\n",
       "      <th>4</th>\n",
       "      <td>68476807</td>\n",
       "      <td>NaN</td>\n",
       "      <td>10400.0</td>\n",
       "      <td>10400.0</td>\n",
       "      <td>10400.0</td>\n",
       "      <td>60 months</td>\n",
       "      <td>22.45</td>\n",
       "      <td>289.91</td>\n",
       "      <td>F</td>\n",
       "      <td>F1</td>\n",
       "      <td>...</td>\n",
       "      <td>NaN</td>\n",
       "      <td>NaN</td>\n",
       "      <td>Cash</td>\n",
       "      <td>N</td>\n",
       "      <td>NaN</td>\n",
       "      <td>NaN</td>\n",
       "      <td>NaN</td>\n",
       "      <td>NaN</td>\n",
       "      <td>NaN</td>\n",
       "      <td>NaN</td>\n",
       "    </tr>\n",
       "  </tbody>\n",
       "</table>\n",
       "<p>5 rows × 151 columns</p>\n",
       "</div>"
      ],
      "text/plain": [
       "         id  member_id  loan_amnt  funded_amnt  funded_amnt_inv        term  \\\n",
       "0  68407277        NaN     3600.0       3600.0           3600.0   36 months   \n",
       "1  68355089        NaN    24700.0      24700.0          24700.0   36 months   \n",
       "2  68341763        NaN    20000.0      20000.0          20000.0   60 months   \n",
       "3  66310712        NaN    35000.0      35000.0          35000.0   60 months   \n",
       "4  68476807        NaN    10400.0      10400.0          10400.0   60 months   \n",
       "\n",
       "   int_rate  installment grade sub_grade  ... hardship_payoff_balance_amount  \\\n",
       "0     13.99       123.03     C        C4  ...                            NaN   \n",
       "1     11.99       820.28     C        C1  ...                            NaN   \n",
       "2     10.78       432.66     B        B4  ...                            NaN   \n",
       "3     14.85       829.90     C        C5  ...                            NaN   \n",
       "4     22.45       289.91     F        F1  ...                            NaN   \n",
       "\n",
       "  hardship_last_payment_amount disbursement_method  debt_settlement_flag  \\\n",
       "0                          NaN                Cash                     N   \n",
       "1                          NaN                Cash                     N   \n",
       "2                          NaN                Cash                     N   \n",
       "3                          NaN                Cash                     N   \n",
       "4                          NaN                Cash                     N   \n",
       "\n",
       "  debt_settlement_flag_date settlement_status settlement_date  \\\n",
       "0                       NaN               NaN             NaN   \n",
       "1                       NaN               NaN             NaN   \n",
       "2                       NaN               NaN             NaN   \n",
       "3                       NaN               NaN             NaN   \n",
       "4                       NaN               NaN             NaN   \n",
       "\n",
       "  settlement_amount settlement_percentage settlement_term  \n",
       "0               NaN                   NaN             NaN  \n",
       "1               NaN                   NaN             NaN  \n",
       "2               NaN                   NaN             NaN  \n",
       "3               NaN                   NaN             NaN  \n",
       "4               NaN                   NaN             NaN  \n",
       "\n",
       "[5 rows x 151 columns]"
      ]
     },
     "execution_count": 4,
     "metadata": {},
     "output_type": "execute_result"
    }
   ],
   "source": [
    "df.head()"
   ]
  },
  {
   "cell_type": "code",
   "execution_count": null,
   "id": "1128cdb1-f4bd-4b9d-b0a7-e687c1b0f8ac",
   "metadata": {},
   "outputs": [
    {
     "name": "stdout",
     "output_type": "stream",
     "text": [
      "Loan Status Distribution:\n",
      "loan_status\n",
      "Fully Paid                                             1076751\n",
      "Current                                                 878317\n",
      "Charged Off                                             268559\n",
      "Late (31-120 days)                                       21467\n",
      "In Grace Period                                           8436\n",
      "Late (16-30 days)                                         4349\n",
      "Does not meet the credit policy. Status:Fully Paid        1988\n",
      "Does not meet the credit policy. Status:Charged Off        761\n",
      "Default                                                     40\n",
      "Name: count, dtype: int64\n"
     ]
    }
   ],
   "source": [
    "print(\"Loan Status Distribution:\")\n",
    "print(df['loan_status'].value_counts())"
   ]
  },
  {
   "cell_type": "code",
   "execution_count": null,
   "id": "90b5320d-94e3-4415-b660-007047313cd5",
   "metadata": {},
   "outputs": [
    {
     "data": {
      "image/png": "[encoded data removed]",
      "text/plain": [
       "<Figure size 1000x600 with 1 Axes>"
      ]
     },
     "metadata": {},
     "output_type": "display_data"
    }
   ],
   "source": [
    "plt.figure(figsize=(10, 6))\n",
    "sns.countplot(y=df['loan_status'])\n",
    "plt.title('Distribution of Loan Status')\n",
    "plt.show()\n"
   ]
  },
  {
   "cell_type": "code",
   "execution_count": null,
   "id": "e605b53a-e889-479f-986e-f407c8602819",
   "metadata": {},
   "outputs": [],
   "source": [
    "# We consider 'Charged Off' as a default (1)\n",
    "# We consider 'Fully Paid' as a non-default (0)\n",
    "df['is_default'] = df['loan_status'].apply(lambda x: 1 if x == 'Charged Off' else (0 if x == 'Fully Paid' else -1))\n"
   ]
  },
  {
   "cell_type": "code",
   "execution_count": null,
   "id": "4d07257b-b716-40d4-94a9-60fdc2d80cb3",
   "metadata": {},
   "outputs": [
    {
     "data": {
      "text/plain": [
       "0          0\n",
       "1          0\n",
       "2          0\n",
       "3         -1\n",
       "4          0\n",
       "          ..\n",
       "2260696   -1\n",
       "2260697    1\n",
       "2260698   -1\n",
       "2260699   -1\n",
       "2260700   -1\n",
       "Name: is_default, Length: 2260701, dtype: int64"
      ]
     },
     "execution_count": 8,
     "metadata": {},
     "output_type": "execute_result"
    }
   ],
   "source": [
    "df['is_default']"
   ]
  },
  {
   "cell_type": "code",
   "execution_count": null,
   "id": "f3f6190e-ec2b-480d-b1ed-1043f60486ca",
   "metadata": {},
   "outputs": [],
   "source": [
    "# Filter out loans that are not yet completed (e.g., 'Current', 'In Grace Period')\n",
    "df_model = df[df['is_default'] != -1].copy()\n",
    "df_model['is_default'] = df_model['is_default'].astype(int)\n"
   ]
  },
  {
   "cell_type": "code",
   "execution_count": null,
   "id": "c28a6f9d-036e-4b65-8e43-c785f0194cd6",
   "metadata": {},
   "outputs": [
    {
     "name": "stdout",
     "output_type": "stream",
     "text": [
      "\n",
      "New Target Variable 'is_default' Distribution:\n",
      "is_default\n",
      "0    1076751\n",
      "1     268559\n",
      "Name: count, dtype: int64\n"
     ]
    },
    {
     "data": {
      "image/png": "[encoded data removed]",
      "text/plain": [
       "<Figure size 640x480 with 1 Axes>"
      ]
     },
     "metadata": {},
     "output_type": "display_data"
    }
   ],
   "source": [
    "# Check the new target variable distribution\n",
    "print(\"\\nNew Target Variable 'is_default' Distribution:\")\n",
    "print(df_model['is_default'].value_counts())\n",
    "sns.countplot(x=df_model['is_default'])\n",
    "plt.title('Distribution of Default (1) vs. Non-Default (0)')\n",
    "plt.show()"
   ]
  },
  {
   "cell_type": "code",
   "execution_count": null,
   "id": "3a64f093-511b-4ba2-8ffa-64e9a32a0f5e",
   "metadata": {},
   "outputs": [],
   "source": [
    "static_numeric_features = ['loan_amnt', 'int_rate', 'installment', 'annual_inc', 'dti']\n",
    "static_categorical_features = ['grade', 'emp_length', 'home_ownership', 'verification_status', 'purpose']"
   ]
  },
  {
   "cell_type": "code",
   "execution_count": null,
   "id": "48640ae7-93db-49da-9ee4-a659fca28ab3",
   "metadata": {},
   "outputs": [],
   "source": [
    "text_features = ['purpose', 'title']\n"
   ]
  },
  {
   "cell_type": "code",
   "execution_count": null,
   "id": "fd7027c4-6ba3-420c-9a68-33e22fe44fe9",
   "metadata": {},
   "outputs": [],
   "source": [
    "selected_features = static_numeric_features + static_categorical_features + text_features + ['is_default']\n",
    "df_clean = df_model[selected_features].copy()"
   ]
  },
  {
   "cell_type": "code",
   "execution_count": null,
   "id": "0491235f-2fcf-4fcb-aebc-e2d23b821a35",
   "metadata": {},
   "outputs": [
    {
     "name": "stdout",
     "output_type": "stream",
     "text": [
      "Missing values before cleaning:\n",
      "loan_amnt                  0\n",
      "int_rate                   0\n",
      "installment                0\n",
      "annual_inc                 0\n",
      "dti                      374\n",
      "grade                      0\n",
      "emp_length             78511\n",
      "home_ownership             0\n",
      "verification_status        0\n",
      "purpose                    0\n",
      "purpose                    0\n",
      "title                  16660\n",
      "is_default                 0\n",
      "dtype: int64\n"
     ]
    }
   ],
   "source": [
    "print(\"Missing values before cleaning:\")\n",
    "print(df_clean.isnull().sum())"
   ]
  },
  {
   "cell_type": "code",
   "execution_count": null,
   "id": "f2cb71f4-3377-4aa9-ab9d-fef133c0dd3f",
   "metadata": {},
   "outputs": [
    {
     "name": "stderr",
     "output_type": "stream",
     "text": [
      "C:\\Users\\ADMIN\\AppData\\Local\\Temp\\ipykernel_13676\\1736440729.py:1: FutureWarning: A value is trying to be set on a copy of a DataFrame or Series through chained assignment using an inplace method.\n",
      "The behavior will change in pandas 3.0. This inplace method will never work because the intermediate object on which we are setting values always behaves as a copy.\n",
      "\n",
      "For example, when doing 'df[col].method(value, inplace=True)', try using 'df.method({col: value}, inplace=True)' or df[col] = df[col].method(value) instead, to perform the operation inplace on the original object.\n",
      "\n",
      "\n",
      "  df_clean['title'].fillna('', inplace=True)\n"
     ]
    }
   ],
   "source": [
    "df_clean['title'].fillna('', inplace=True)\n",
    "df_clean.dropna(inplace=True) # Drop rows with missing values in other columns"
   ]
  },
  {
   "cell_type": "code",
   "execution_count": null,
   "id": "af51b7f4-562b-48b8-8c1d-722863353f5e",
   "metadata": {},
   "outputs": [
    {
     "name": "stdout",
     "output_type": "stream",
     "text": [
      "\n",
      "Missing values after cleaning:\n",
      "loan_amnt              0\n",
      "int_rate               0\n",
      "installment            0\n",
      "annual_inc             0\n",
      "dti                    0\n",
      "grade                  0\n",
      "emp_length             0\n",
      "home_ownership         0\n",
      "verification_status    0\n",
      "purpose                0\n",
      "purpose                0\n",
      "title                  0\n",
      "is_default             0\n",
      "dtype: int64\n",
      "\n",
      "Shape of cleaned data: (1266782, 13)\n"
     ]
    }
   ],
   "source": [
    "print(\"\\nMissing values after cleaning:\")\n",
    "print(df_clean.isnull().sum())\n",
    "print(f\"\\nShape of cleaned data: {df_clean.shape}\")"
   ]
  },
  {
   "cell_type": "code",
   "execution_count": null,
   "id": "b2ea7686-864f-4422-949c-006591989c3f",
   "metadata": {},
   "outputs": [],
   "source": []
  },
  {
   "cell_type": "code",
   "execution_count": null,
   "id": "5541e21a-2bba-45f1-86e0-04ce547403b8",
   "metadata": {},
   "outputs": [
    {
     "name": "stdout",
     "output_type": "stream",
     "text": [
      "Index(['purpose'], dtype='object')\n"
     ]
    }
   ],
   "source": [
    "print(df_clean.columns[df_clean.columns.duplicated()])\n"
   ]
  },
  {
   "cell_type": "code",
   "execution_count": null,
   "id": "03b858ed-9a77-45dc-9478-3f5add3dd6eb",
   "metadata": {},
   "outputs": [],
   "source": [
    "df_clean = df_clean.loc[:, ~df_clean.columns.duplicated()]\n"
   ]
  },
  {
   "cell_type": "code",
   "execution_count": null,
   "id": "dcdc74bc-6fdf-4d5b-8f78-364d76f9d610",
   "metadata": {},
   "outputs": [],
   "source": [
    "df_clean['text_input'] = df_clean['title'] + ' ' + df_clean['purpose']"
   ]
  },
  {
   "cell_type": "code",
   "execution_count": null,
   "id": "d0098815-9d43-4e15-8759-bb487cde798a",
   "metadata": {},
   "outputs": [],
   "source": [
    "text_data = df_clean['text_input'].astype(str)\n",
    "target = df_clean['is_default']"
   ]
  },
  {
   "cell_type": "code",
   "execution_count": null,
   "id": "7e418da3-392f-4fae-bf1f-257f25036c4b",
   "metadata": {},
   "outputs": [],
   "source": [
    "VOCAB_SIZE = 10000  \n",
    "MAX_LEN = 50       \n",
    "OOV_TOKEN = \"<OOV>\" \n"
   ]
  },
  {
   "cell_type": "code",
   "execution_count": null,
   "id": "bdf35955-141a-4b26-96f6-46189d119b43",
   "metadata": {},
   "outputs": [],
   "source": [
    "import tensorflow as tf\n",
    "from tensorflow.keras.preprocessing.text import Tokenizer\n",
    "from tensorflow.keras.preprocessing.sequence import pad_sequences\n",
    "from sklearn.model_selection import train_test_split\n",
    "from sklearn.preprocessing import StandardScaler, OneHotEncoder\n",
    "from sklearn.compose import ColumnTransformer\n",
    "from sklearn.pipeline import Pipeline\n",
    "from sklearn.metrics import classification_report, confusion_matrix, roc_curve, auc\n"
   ]
  },
  {
   "cell_type": "code",
   "execution_count": null,
   "id": "06866b96-bdc1-4d49-a2e4-47a4afe641be",
   "metadata": {},
   "outputs": [
    {
     "name": "stdout",
     "output_type": "stream",
     "text": [
      "Example original text: Debt consolidation debt_consolidation\n",
      "Example sequence: [3, 2, 3, 2]\n",
      "Example padded sequence: [3 2 3 2 0 0 0 0 0 0 0 0 0 0 0 0 0 0 0 0 0 0 0 0 0 0 0 0 0 0 0 0 0 0 0 0 0\n",
      " 0 0 0 0 0 0 0 0 0 0 0 0 0]\n"
     ]
    }
   ],
   "source": [
    "tokenizer = Tokenizer(num_words=VOCAB_SIZE, oov_token=OOV_TOKEN)\n",
    "tokenizer.fit_on_texts(text_data)\n",
    "\n",
    "sequences = tokenizer.texts_to_sequences(text_data)\n",
    "\n",
    "padded_sequences = pad_sequences(sequences, maxlen=MAX_LEN, padding='post', truncating='post')\n",
    "\n",
    "print(\"Example original text:\", text_data.iloc[0])\n",
    "print(\"Example sequence:\", sequences[0])\n",
    "print(\"Example padded sequence:\", padded_sequences[0])"
   ]
  },
  {
   "cell_type": "code",
   "execution_count": null,
   "id": "d4197ba6-0109-402d-b6ee-ea426e87dccf",
   "metadata": {},
   "outputs": [],
   "source": [
    "# 2. Static Data Pre-processing\n",
    "static_data = df_clean[static_numeric_features + static_categorical_features]\n",
    "\n",
    "# Create pre-processing pipelines for numeric and categorical features\n",
    "numeric_transformer = StandardScaler()\n",
    "categorical_transformer = OneHotEncoder(handle_unknown='ignore')\n",
    "\n",
    "# Use ColumnTransformer to apply different transformers to different columns\n",
    "preprocessor = ColumnTransformer(\n",
    "    transformers=[\n",
    "        ('num', numeric_transformer, static_numeric_features),\n",
    "        ('cat', categorical_transformer, static_categorical_features)\n",
    "    ])\n"
   ]
  },
  {
   "cell_type": "code",
   "execution_count": null,
   "id": "46da04d2-e0aa-4962-91c6-8099b309bcd0",
   "metadata": {},
   "outputs": [
    {
     "name": "stdout",
     "output_type": "stream",
     "text": [
      "Training data shapes:\n",
      "(1013425, 46) (1013425, 50) (1013425,)\n",
      "\n",
      "Test data shapes:\n",
      "(253357, 46) (253357, 50) (253357,)\n"
     ]
    }
   ],
   "source": [
    "# Splitting static data and padded sequences together\n",
    "X_static = static_data\n",
    "X_text = padded_sequences\n",
    "y = target\n",
    "\n",
    "# First split: 80% for training, 20% for testing\n",
    "X_static_train, X_static_test, X_text_train, X_text_test, y_train, y_test = train_test_split(\n",
    "    X_static, X_text, y, test_size=0.2, random_state=42, stratify=y)\n",
    "\n",
    "# Fit and transform the static training data\n",
    "X_static_train_processed = preprocessor.fit_transform(X_static_train)\n",
    "# Only transform the test data using the fitted preprocessor\n",
    "X_static_test_processed = preprocessor.transform(X_static_test)\n",
    "\n",
    "\n",
    "print(\"Training data shapes:\")\n",
    "print(X_static_train_processed.shape, X_text_train.shape, y_train.shape)\n",
    "print(\"\\nTest data shapes:\")\n",
    "print(X_static_test_processed.shape, X_text_test.shape, y_test.shape)"
   ]
  },
  {
   "cell_type": "code",
   "execution_count": null,
   "id": "4070ff28",
   "metadata": {},
   "outputs": [],
   "source": [
    "# Take a random sample of 100 rows from your static training data\n",
    "background_sample = X_static_train.sample(100, random_state=42)\n",
    "\n",
    "# Save this sample to a CSV file in your main project directory\n",
    "background_sample.to_csv('shap_background_data.csv', index=False)\n",
    "\n",
    "print(\"Background data for SHAP saved successfully!\")"
   ]
  },
  {
   "cell_type": "code",
   "execution_count": null,
   "id": "a1adc355-5c04-4ab7-8912-4683cf943e5f",
   "metadata": {},
   "outputs": [
    {
     "data": {
      "text/html": [
       "<pre style=\"white-space:pre;overflow-x:auto;line-height:normal;font-family:Menlo,'DejaVu Sans Mono',consolas,'Courier New',monospace\"><span style=\"font-weight: bold\">Model: \"functional\"</span>\n",
       "</pre>\n"
      ],
      "text/plain": [
       "\u001b[1mModel: \"functional\"\u001b[0m\n"
      ]
     },
     "metadata": {},
     "output_type": "display_data"
    },
    {
     "data": {
      "text/html": [
       "<pre style=\"white-space:pre;overflow-x:auto;line-height:normal;font-family:Menlo,'DejaVu Sans Mono',consolas,'Courier New',monospace\">┏━━━━━━━━━━━━━━━━━━━━━┳━━━━━━━━━━━━━━━━━━━┳━━━━━━━━━━━━┳━━━━━━━━━━━━━━━━━━━┓\n",
       "┃<span style=\"font-weight: bold\"> Layer (type)        </span>┃<span style=\"font-weight: bold\"> Output Shape      </span>┃<span style=\"font-weight: bold\">    Param # </span>┃<span style=\"font-weight: bold\"> Connected to      </span>┃\n",
       "┡━━━━━━━━━━━━━━━━━━━━━╇━━━━━━━━━━━━━━━━━━━╇━━━━━━━━━━━━╇━━━━━━━━━━━━━━━━━━━┩\n",
       "│ text_input          │ (<span style=\"color: #00d7ff; text-decoration-color: #00d7ff\">None</span>, <span style=\"color: #00af00; text-decoration-color: #00af00\">50</span>)        │          <span style=\"color: #00af00; text-decoration-color: #00af00\">0</span> │ -                 │\n",
       "│ (<span style=\"color: #0087ff; text-decoration-color: #0087ff\">InputLayer</span>)        │                   │            │                   │\n",
       "├─────────────────────┼───────────────────┼────────────┼───────────────────┤\n",
       "│ embedding           │ (<span style=\"color: #00d7ff; text-decoration-color: #00d7ff\">None</span>, <span style=\"color: #00af00; text-decoration-color: #00af00\">50</span>, <span style=\"color: #00af00; text-decoration-color: #00af00\">64</span>)    │    <span style=\"color: #00af00; text-decoration-color: #00af00\">640,000</span> │ text_input[<span style=\"color: #00af00; text-decoration-color: #00af00\">0</span>][<span style=\"color: #00af00; text-decoration-color: #00af00\">0</span>]  │\n",
       "│ (<span style=\"color: #0087ff; text-decoration-color: #0087ff\">Embedding</span>)         │                   │            │                   │\n",
       "├─────────────────────┼───────────────────┼────────────┼───────────────────┤\n",
       "│ static_input        │ (<span style=\"color: #00d7ff; text-decoration-color: #00d7ff\">None</span>, <span style=\"color: #00af00; text-decoration-color: #00af00\">46</span>)        │          <span style=\"color: #00af00; text-decoration-color: #00af00\">0</span> │ -                 │\n",
       "│ (<span style=\"color: #0087ff; text-decoration-color: #0087ff\">InputLayer</span>)        │                   │            │                   │\n",
       "├─────────────────────┼───────────────────┼────────────┼───────────────────┤\n",
       "│ conv1d (<span style=\"color: #0087ff; text-decoration-color: #0087ff\">Conv1D</span>)     │ (<span style=\"color: #00d7ff; text-decoration-color: #00d7ff\">None</span>, <span style=\"color: #00af00; text-decoration-color: #00af00\">46</span>, <span style=\"color: #00af00; text-decoration-color: #00af00\">128</span>)   │     <span style=\"color: #00af00; text-decoration-color: #00af00\">41,088</span> │ embedding[<span style=\"color: #00af00; text-decoration-color: #00af00\">0</span>][<span style=\"color: #00af00; text-decoration-color: #00af00\">0</span>]   │\n",
       "├─────────────────────┼───────────────────┼────────────┼───────────────────┤\n",
       "│ dense_1 (<span style=\"color: #0087ff; text-decoration-color: #0087ff\">Dense</span>)     │ (<span style=\"color: #00d7ff; text-decoration-color: #00d7ff\">None</span>, <span style=\"color: #00af00; text-decoration-color: #00af00\">64</span>)        │      <span style=\"color: #00af00; text-decoration-color: #00af00\">3,008</span> │ static_input[<span style=\"color: #00af00; text-decoration-color: #00af00\">0</span>][<span style=\"color: #00af00; text-decoration-color: #00af00\">…</span> │\n",
       "├─────────────────────┼───────────────────┼────────────┼───────────────────┤\n",
       "│ global_max_pooling… │ (<span style=\"color: #00d7ff; text-decoration-color: #00d7ff\">None</span>, <span style=\"color: #00af00; text-decoration-color: #00af00\">128</span>)       │          <span style=\"color: #00af00; text-decoration-color: #00af00\">0</span> │ conv1d[<span style=\"color: #00af00; text-decoration-color: #00af00\">0</span>][<span style=\"color: #00af00; text-decoration-color: #00af00\">0</span>]      │\n",
       "│ (<span style=\"color: #0087ff; text-decoration-color: #0087ff\">GlobalMaxPooling1…</span> │                   │            │                   │\n",
       "├─────────────────────┼───────────────────┼────────────┼───────────────────┤\n",
       "│ dropout (<span style=\"color: #0087ff; text-decoration-color: #0087ff\">Dropout</span>)   │ (<span style=\"color: #00d7ff; text-decoration-color: #00d7ff\">None</span>, <span style=\"color: #00af00; text-decoration-color: #00af00\">64</span>)        │          <span style=\"color: #00af00; text-decoration-color: #00af00\">0</span> │ dense_1[<span style=\"color: #00af00; text-decoration-color: #00af00\">0</span>][<span style=\"color: #00af00; text-decoration-color: #00af00\">0</span>]     │\n",
       "├─────────────────────┼───────────────────┼────────────┼───────────────────┤\n",
       "│ dense (<span style=\"color: #0087ff; text-decoration-color: #0087ff\">Dense</span>)       │ (<span style=\"color: #00d7ff; text-decoration-color: #00d7ff\">None</span>, <span style=\"color: #00af00; text-decoration-color: #00af00\">32</span>)        │      <span style=\"color: #00af00; text-decoration-color: #00af00\">4,128</span> │ global_max_pooli… │\n",
       "├─────────────────────┼───────────────────┼────────────┼───────────────────┤\n",
       "│ dense_2 (<span style=\"color: #0087ff; text-decoration-color: #0087ff\">Dense</span>)     │ (<span style=\"color: #00d7ff; text-decoration-color: #00d7ff\">None</span>, <span style=\"color: #00af00; text-decoration-color: #00af00\">32</span>)        │      <span style=\"color: #00af00; text-decoration-color: #00af00\">2,080</span> │ dropout[<span style=\"color: #00af00; text-decoration-color: #00af00\">0</span>][<span style=\"color: #00af00; text-decoration-color: #00af00\">0</span>]     │\n",
       "├─────────────────────┼───────────────────┼────────────┼───────────────────┤\n",
       "│ concatenate         │ (<span style=\"color: #00d7ff; text-decoration-color: #00d7ff\">None</span>, <span style=\"color: #00af00; text-decoration-color: #00af00\">64</span>)        │          <span style=\"color: #00af00; text-decoration-color: #00af00\">0</span> │ dense[<span style=\"color: #00af00; text-decoration-color: #00af00\">0</span>][<span style=\"color: #00af00; text-decoration-color: #00af00\">0</span>],      │\n",
       "│ (<span style=\"color: #0087ff; text-decoration-color: #0087ff\">Concatenate</span>)       │                   │            │ dense_2[<span style=\"color: #00af00; text-decoration-color: #00af00\">0</span>][<span style=\"color: #00af00; text-decoration-color: #00af00\">0</span>]     │\n",
       "├─────────────────────┼───────────────────┼────────────┼───────────────────┤\n",
       "│ dense_3 (<span style=\"color: #0087ff; text-decoration-color: #0087ff\">Dense</span>)     │ (<span style=\"color: #00d7ff; text-decoration-color: #00d7ff\">None</span>, <span style=\"color: #00af00; text-decoration-color: #00af00\">32</span>)        │      <span style=\"color: #00af00; text-decoration-color: #00af00\">2,080</span> │ concatenate[<span style=\"color: #00af00; text-decoration-color: #00af00\">0</span>][<span style=\"color: #00af00; text-decoration-color: #00af00\">0</span>] │\n",
       "├─────────────────────┼───────────────────┼────────────┼───────────────────┤\n",
       "│ dropout_1 (<span style=\"color: #0087ff; text-decoration-color: #0087ff\">Dropout</span>) │ (<span style=\"color: #00d7ff; text-decoration-color: #00d7ff\">None</span>, <span style=\"color: #00af00; text-decoration-color: #00af00\">32</span>)        │          <span style=\"color: #00af00; text-decoration-color: #00af00\">0</span> │ dense_3[<span style=\"color: #00af00; text-decoration-color: #00af00\">0</span>][<span style=\"color: #00af00; text-decoration-color: #00af00\">0</span>]     │\n",
       "├─────────────────────┼───────────────────┼────────────┼───────────────────┤\n",
       "│ output (<span style=\"color: #0087ff; text-decoration-color: #0087ff\">Dense</span>)      │ (<span style=\"color: #00d7ff; text-decoration-color: #00d7ff\">None</span>, <span style=\"color: #00af00; text-decoration-color: #00af00\">1</span>)         │         <span style=\"color: #00af00; text-decoration-color: #00af00\">33</span> │ dropout_1[<span style=\"color: #00af00; text-decoration-color: #00af00\">0</span>][<span style=\"color: #00af00; text-decoration-color: #00af00\">0</span>]   │\n",
       "└─────────────────────┴───────────────────┴────────────┴───────────────────┘\n",
       "</pre>\n"
      ],
      "text/plain": [
       "┏━━━━━━━━━━━━━━━━━━━━━┳━━━━━━━━━━━━━━━━━━━┳━━━━━━━━━━━━┳━━━━━━━━━━━━━━━━━━━┓\n",
       "┃\u001b[1m \u001b[0m\u001b[1mLayer (type)       \u001b[0m\u001b[1m \u001b[0m┃\u001b[1m \u001b[0m\u001b[1mOutput Shape     \u001b[0m\u001b[1m \u001b[0m┃\u001b[1m \u001b[0m\u001b[1m   Param #\u001b[0m\u001b[1m \u001b[0m┃\u001b[1m \u001b[0m\u001b[1mConnected to     \u001b[0m\u001b[1m \u001b[0m┃\n",
       "┡━━━━━━━━━━━━━━━━━━━━━╇━━━━━━━━━━━━━━━━━━━╇━━━━━━━━━━━━╇━━━━━━━━━━━━━━━━━━━┩\n",
       "│ text_input          │ (\u001b[38;5;45mNone\u001b[0m, \u001b[38;5;34m50\u001b[0m)        │          \u001b[38;5;34m0\u001b[0m │ -                 │\n",
       "│ (\u001b[38;5;33mInputLayer\u001b[0m)        │                   │            │                   │\n",
       "├─────────────────────┼───────────────────┼────────────┼───────────────────┤\n",
       "│ embedding           │ (\u001b[38;5;45mNone\u001b[0m, \u001b[38;5;34m50\u001b[0m, \u001b[38;5;34m64\u001b[0m)    │    \u001b[38;5;34m640,000\u001b[0m │ text_input[\u001b[38;5;34m0\u001b[0m][\u001b[38;5;34m0\u001b[0m]  │\n",
       "│ (\u001b[38;5;33mEmbedding\u001b[0m)         │                   │            │                   │\n",
       "├─────────────────────┼───────────────────┼────────────┼───────────────────┤\n",
       "│ static_input        │ (\u001b[38;5;45mNone\u001b[0m, \u001b[38;5;34m46\u001b[0m)        │          \u001b[38;5;34m0\u001b[0m │ -                 │\n",
       "│ (\u001b[38;5;33mInputLayer\u001b[0m)        │                   │            │                   │\n",
       "├─────────────────────┼───────────────────┼────────────┼───────────────────┤\n",
       "│ conv1d (\u001b[38;5;33mConv1D\u001b[0m)     │ (\u001b[38;5;45mNone\u001b[0m, \u001b[38;5;34m46\u001b[0m, \u001b[38;5;34m128\u001b[0m)   │     \u001b[38;5;34m41,088\u001b[0m │ embedding[\u001b[38;5;34m0\u001b[0m][\u001b[38;5;34m0\u001b[0m]   │\n",
       "├─────────────────────┼───────────────────┼────────────┼───────────────────┤\n",
       "│ dense_1 (\u001b[38;5;33mDense\u001b[0m)     │ (\u001b[38;5;45mNone\u001b[0m, \u001b[38;5;34m64\u001b[0m)        │      \u001b[38;5;34m3,008\u001b[0m │ static_input[\u001b[38;5;34m0\u001b[0m][\u001b[38;5;34m…\u001b[0m │\n",
       "├─────────────────────┼───────────────────┼────────────┼───────────────────┤\n",
       "│ global_max_pooling… │ (\u001b[38;5;45mNone\u001b[0m, \u001b[38;5;34m128\u001b[0m)       │          \u001b[38;5;34m0\u001b[0m │ conv1d[\u001b[38;5;34m0\u001b[0m][\u001b[38;5;34m0\u001b[0m]      │\n",
       "│ (\u001b[38;5;33mGlobalMaxPooling1…\u001b[0m │                   │            │                   │\n",
       "├─────────────────────┼───────────────────┼────────────┼───────────────────┤\n",
       "│ dropout (\u001b[38;5;33mDropout\u001b[0m)   │ (\u001b[38;5;45mNone\u001b[0m, \u001b[38;5;34m64\u001b[0m)        │          \u001b[38;5;34m0\u001b[0m │ dense_1[\u001b[38;5;34m0\u001b[0m][\u001b[38;5;34m0\u001b[0m]     │\n",
       "├─────────────────────┼───────────────────┼────────────┼───────────────────┤\n",
       "│ dense (\u001b[38;5;33mDense\u001b[0m)       │ (\u001b[38;5;45mNone\u001b[0m, \u001b[38;5;34m32\u001b[0m)        │      \u001b[38;5;34m4,128\u001b[0m │ global_max_pooli… │\n",
       "├─────────────────────┼───────────────────┼────────────┼───────────────────┤\n",
       "│ dense_2 (\u001b[38;5;33mDense\u001b[0m)     │ (\u001b[38;5;45mNone\u001b[0m, \u001b[38;5;34m32\u001b[0m)        │      \u001b[38;5;34m2,080\u001b[0m │ dropout[\u001b[38;5;34m0\u001b[0m][\u001b[38;5;34m0\u001b[0m]     │\n",
       "├─────────────────────┼───────────────────┼────────────┼───────────────────┤\n",
       "│ concatenate         │ (\u001b[38;5;45mNone\u001b[0m, \u001b[38;5;34m64\u001b[0m)        │          \u001b[38;5;34m0\u001b[0m │ dense[\u001b[38;5;34m0\u001b[0m][\u001b[38;5;34m0\u001b[0m],      │\n",
       "│ (\u001b[38;5;33mConcatenate\u001b[0m)       │                   │            │ dense_2[\u001b[38;5;34m0\u001b[0m][\u001b[38;5;34m0\u001b[0m]     │\n",
       "├─────────────────────┼───────────────────┼────────────┼───────────────────┤\n",
       "│ dense_3 (\u001b[38;5;33mDense\u001b[0m)     │ (\u001b[38;5;45mNone\u001b[0m, \u001b[38;5;34m32\u001b[0m)        │      \u001b[38;5;34m2,080\u001b[0m │ concatenate[\u001b[38;5;34m0\u001b[0m][\u001b[38;5;34m0\u001b[0m] │\n",
       "├─────────────────────┼───────────────────┼────────────┼───────────────────┤\n",
       "│ dropout_1 (\u001b[38;5;33mDropout\u001b[0m) │ (\u001b[38;5;45mNone\u001b[0m, \u001b[38;5;34m32\u001b[0m)        │          \u001b[38;5;34m0\u001b[0m │ dense_3[\u001b[38;5;34m0\u001b[0m][\u001b[38;5;34m0\u001b[0m]     │\n",
       "├─────────────────────┼───────────────────┼────────────┼───────────────────┤\n",
       "│ output (\u001b[38;5;33mDense\u001b[0m)      │ (\u001b[38;5;45mNone\u001b[0m, \u001b[38;5;34m1\u001b[0m)         │         \u001b[38;5;34m33\u001b[0m │ dropout_1[\u001b[38;5;34m0\u001b[0m][\u001b[38;5;34m0\u001b[0m]   │\n",
       "└─────────────────────┴───────────────────┴────────────┴───────────────────┘\n"
      ]
     },
     "metadata": {},
     "output_type": "display_data"
    },
    {
     "data": {
      "text/html": [
       "<pre style=\"white-space:pre;overflow-x:auto;line-height:normal;font-family:Menlo,'DejaVu Sans Mono',consolas,'Courier New',monospace\"><span style=\"font-weight: bold\"> Total params: </span><span style=\"color: #00af00; text-decoration-color: #00af00\">692,417</span> (2.64 MB)\n",
       "</pre>\n"
      ],
      "text/plain": [
       "\u001b[1m Total params: \u001b[0m\u001b[38;5;34m692,417\u001b[0m (2.64 MB)\n"
      ]
     },
     "metadata": {},
     "output_type": "display_data"
    },
    {
     "data": {
      "text/html": [
       "<pre style=\"white-space:pre;overflow-x:auto;line-height:normal;font-family:Menlo,'DejaVu Sans Mono',consolas,'Courier New',monospace\"><span style=\"font-weight: bold\"> Trainable params: </span><span style=\"color: #00af00; text-decoration-color: #00af00\">692,417</span> (2.64 MB)\n",
       "</pre>\n"
      ],
      "text/plain": [
       "\u001b[1m Trainable params: \u001b[0m\u001b[38;5;34m692,417\u001b[0m (2.64 MB)\n"
      ]
     },
     "metadata": {},
     "output_type": "display_data"
    },
    {
     "data": {
      "text/html": [
       "<pre style=\"white-space:pre;overflow-x:auto;line-height:normal;font-family:Menlo,'DejaVu Sans Mono',consolas,'Courier New',monospace\"><span style=\"font-weight: bold\"> Non-trainable params: </span><span style=\"color: #00af00; text-decoration-color: #00af00\">0</span> (0.00 B)\n",
       "</pre>\n"
      ],
      "text/plain": [
       "\u001b[1m Non-trainable params: \u001b[0m\u001b[38;5;34m0\u001b[0m (0.00 B)\n"
      ]
     },
     "metadata": {},
     "output_type": "display_data"
    }
   ],
   "source": [
    "from tensorflow.keras.models import Model\n",
    "from tensorflow.keras.layers import Input, Embedding, Conv1D, GlobalMaxPooling1D, Dense, Concatenate, Dropout\n",
    "\n",
    "# --- Branch 1: Text Processing ---\n",
    "EMBEDDING_DIM = 64\n",
    "text_input = Input(shape=(MAX_LEN,), name='text_input')\n",
    "embedding_layer = Embedding(input_dim=VOCAB_SIZE, output_dim=EMBEDDING_DIM)(text_input)\n",
    "conv_layer = Conv1D(filters=128, kernel_size=5, activation='relu')(embedding_layer)\n",
    "pooling_layer = GlobalMaxPooling1D()(conv_layer)\n",
    "text_branch = Dense(32, activation='relu')(pooling_layer)\n",
    "\n",
    "# --- Branch 2: Static Data Processing ---\n",
    "# The shape is determined by our preprocessor's output\n",
    "static_input = Input(shape=(X_static_train_processed.shape[1],), name='static_input')\n",
    "static_branch = Dense(64, activation='relu')(static_input)\n",
    "static_branch = Dropout(0.3)(static_branch)\n",
    "static_branch = Dense(32, activation='relu')(static_branch)\n",
    "\n",
    "# --- Concatenate Branches ---\n",
    "combined = Concatenate()([text_branch, static_branch])\n",
    "combined = Dense(32, activation='relu')(combined)\n",
    "combined = Dropout(0.5)(combined)\n",
    "output = Dense(1, activation='sigmoid', name='output')(combined) # Sigmoid for binary classification\n",
    "\n",
    "# --- Create and Compile Model ---\n",
    "model = Model(inputs=[text_input, static_input], outputs=output)\n",
    "\n",
    "model.compile(optimizer='adam',\n",
    "              loss='binary_crossentropy',\n",
    "              metrics=['accuracy', tf.keras.metrics.AUC(name='auc')])\n",
    "\n",
    "model.summary()"
   ]
  },
  {
   "cell_type": "code",
   "execution_count": null,
   "id": "e2050297-3f90-4275-b1cb-6166f6ce9ef8",
   "metadata": {},
   "outputs": [
    {
     "name": "stdout",
     "output_type": "stream",
     "text": [
      "TensorFlow Version: 2.18.0\n"
     ]
    }
   ],
   "source": [
    "# For handling class imbalance\n",
    "from sklearn.utils import class_weight\n",
    "\n",
    "# Set some visual styles\n",
    "sns.set_style('whitegrid')\n",
    "print(f\"TensorFlow Version: {tf.__version__}\")"
   ]
  },
  {
   "cell_type": "code",
   "execution_count": null,
   "id": "cacf1544-45e2-4dd5-948d-de1b049a5510",
   "metadata": {},
   "outputs": [
    {
     "name": "stdout",
     "output_type": "stream",
     "text": [
      "Class Weights: {0: np.float64(0.6213641224107401), 1: np.float64(2.559916843908033)}\n",
      "Epoch 1/25\n",
      "\u001b[1m3365/3365\u001b[0m \u001b[32m━━━━━━━━━━━━━━━━━━━━\u001b[0m\u001b[37m\u001b[0m \u001b[1m296s\u001b[0m 86ms/step - accuracy: 0.6200 - auc: 0.6848 - loss: 0.6395 - val_accuracy: 0.6572 - val_auc: 0.7115 - val_loss: 0.6142\n",
      "Epoch 2/25\n",
      "\u001b[1m3365/3365\u001b[0m \u001b[32m━━━━━━━━━━━━━━━━━━━━\u001b[0m\u001b[37m\u001b[0m \u001b[1m284s\u001b[0m 84ms/step - accuracy: 0.6406 - auc: 0.7050 - loss: 0.6279 - val_accuracy: 0.6403 - val_auc: 0.7128 - val_loss: 0.6272\n",
      "Epoch 3/25\n",
      "\u001b[1m3365/3365\u001b[0m \u001b[32m━━━━━━━━━━━━━━━━━━━━\u001b[0m\u001b[37m\u001b[0m \u001b[1m293s\u001b[0m 87ms/step - accuracy: 0.6408 - auc: 0.7096 - loss: 0.6243 - val_accuracy: 0.6465 - val_auc: 0.7117 - val_loss: 0.6211\n",
      "Epoch 4/25\n",
      "\u001b[1m3365/3365\u001b[0m \u001b[32m━━━━━━━━━━━━━━━━━━━━\u001b[0m\u001b[37m\u001b[0m \u001b[1m292s\u001b[0m 87ms/step - accuracy: 0.6414 - auc: 0.7110 - loss: 0.6227 - val_accuracy: 0.6348 - val_auc: 0.7103 - val_loss: 0.6283\n",
      "Epoch 5/25\n",
      "\u001b[1m3365/3365\u001b[0m \u001b[32m━━━━━━━━━━━━━━━━━━━━\u001b[0m\u001b[37m\u001b[0m \u001b[1m287s\u001b[0m 85ms/step - accuracy: 0.6442 - auc: 0.7158 - loss: 0.6183 - val_accuracy: 0.6489 - val_auc: 0.7093 - val_loss: 0.6173\n",
      "Epoch 6/25\n",
      "\u001b[1m3365/3365\u001b[0m \u001b[32m━━━━━━━━━━━━━━━━━━━━\u001b[0m\u001b[37m\u001b[0m \u001b[1m280s\u001b[0m 83ms/step - accuracy: 0.6450 - auc: 0.7178 - loss: 0.6157 - val_accuracy: 0.6299 - val_auc: 0.7083 - val_loss: 0.6387\n",
      "Epoch 7/25\n",
      "\u001b[1m3365/3365\u001b[0m \u001b[32m━━━━━━━━━━━━━━━━━━━━\u001b[0m\u001b[37m\u001b[0m \u001b[1m278s\u001b[0m 83ms/step - accuracy: 0.6424 - auc: 0.7188 - loss: 0.6155 - val_accuracy: 0.6352 - val_auc: 0.7093 - val_loss: 0.6332\n"
     ]
    }
   ],
   "source": [
    "# Calculate class weights\n",
    "weights = class_weight.compute_class_weight('balanced', classes=np.unique(y_train), y=y_train)\n",
    "class_weights = {i : weights[i] for i in range(len(weights))}\n",
    "\n",
    "print(f\"Class Weights: {class_weights}\")\n",
    "\n",
    "# Set up EarlyStopping\n",
    "early_stopping = tf.keras.callbacks.EarlyStopping(monitor='val_auc', patience=5, mode='max', restore_best_weights=True)\n",
    "\n",
    "# Train the model\n",
    "history = model.fit(\n",
    "    x={'text_input': X_text_train, 'static_input': X_static_train_processed},\n",
    "    y=y_train,\n",
    "    epochs=25,\n",
    "    batch_size=256,\n",
    "    validation_split=0.15, # Use part of the training data for validation\n",
    "    callbacks=[early_stopping],\n",
    "    class_weight=class_weights,\n",
    "    verbose=1\n",
    ")"
   ]
  },
  {
   "cell_type": "code",
   "execution_count": null,
   "id": "4aa291f4",
   "metadata": {},
   "outputs": [],
   "source": [
    "import pandas as pd\n",
    "import matplotlib.pyplot as plt\n",
    "\n",
    "# Plot training & validation accuracy and loss values\n",
    "pd.DataFrame(history.history).plot(figsize=(12, 8))\n",
    "plt.grid(True)\n",
    "plt.gca().set_ylim(0, 1) # Set the y-axis range to [0,1] for better readability\n",
    "plt.title(\"Model Training History\")\n",
    "plt.show()"
   ]
  },
  {
   "cell_type": "code",
   "execution_count": null,
   "id": "9605479c",
   "metadata": {},
   "outputs": [],
   "source": [
    "# Evaluate the model on the unseen test set\n",
    "results = final_model.evaluate(\n",
    "    {'text_input': X_text_test, 'static_input': X_static_test_processed},\n",
    "    y_test,\n",
    "    verbose=0\n",
    ")\n",
    "\n",
    "print(\"--- Test Set Evaluation ---\")\n",
    "for name, value in zip(final_model.metrics_names, results):\n",
    "    print(f\"{name}: {value:.4f}\")"
   ]
  },
  {
   "cell_type": "code",
   "execution_count": null,
   "id": "b3be280f",
   "metadata": {},
   "outputs": [],
   "source": [
    "# Get prediction probabilities\n",
    "y_pred_proba = final_model.predict({\n",
    "    'text_input': X_text_test, \n",
    "    'static_input': X_static_test_processed\n",
    "}).ravel()\n",
    "\n",
    "# Convert probabilities to class labels using a 0.5 threshold\n",
    "y_pred_class = (y_pred_proba > 0.5).astype(int)"
   ]
  },
  {
   "cell_type": "code",
   "execution_count": null,
   "id": "74dcae21",
   "metadata": {},
   "outputs": [],
   "source": [
    "from sklearn.metrics import classification_report\n",
    "\n",
    "print(\"\\n--- Classification Report ---\")\n",
    "print(classification_report(y_test, y_pred_class, target_names=['Non-Default (0)', 'Default (1)']))"
   ]
  },
  {
   "cell_type": "code",
   "execution_count": null,
   "id": "484d90a7",
   "metadata": {},
   "outputs": [],
   "source": [
    "from sklearn.metrics import roc_curve, auc\n",
    "\n",
    "fpr, tpr, thresholds = roc_curve(y_test, y_pred_proba)\n",
    "roc_auc = auc(fpr, tpr)\n",
    "\n",
    "plt.figure(figsize=(8, 6))\n",
    "plt.plot(fpr, tpr, color='darkorange', lw=2, label=f'ROC curve (area = {roc_auc:.2f})')\n",
    "plt.plot([0, 1], [0, 1], color='navy', lw=2, linestyle='--')\n",
    "plt.xlim([0.0, 1.0])\n",
    "plt.ylim([0.0, 1.05])\n",
    "plt.xlabel('False Positive Rate')\n",
    "plt.ylabel('True Positive Rate')\n",
    "plt.title('Receiver Operating Characteristic (ROC) Curve')\n",
    "plt.legend(loc=\"lower right\")\n",
    "plt.show()  "
   ]
  },
  {
   "cell_type": "code",
   "execution_count": null,
   "id": "08d00f9a",
   "metadata": {},
   "outputs": [],
   "source": [
    "from sklearn.metrics import confusion_matrix\n",
    "import seaborn as sns\n",
    "\n",
    "cm = confusion_matrix(y_test, y_pred_class)\n",
    "\n",
    "plt.figure(figsize=(8, 6))\n",
    "sns.heatmap(cm, annot=True, fmt='d', cmap='Blues', \n",
    "            xticklabels=['Non-Default', 'Default'], \n",
    "            yticklabels=['Non-Default', 'Default'])\n",
    "plt.xlabel('Predicted')\n",
    "plt.ylabel('Actual')\n",
    "plt.title('Confusion Matrix')\n",
    "plt.show()"
   ]
  },
  {
   "cell_type": "code",
   "execution_count": null,
   "id": "87ee69c1-909c-4d77-ba29-4978d1b36462",
   "metadata": {},
   "outputs": [
    {
     "data": {
      "image/png": "[encoded data removed]",
      "text/plain": [
       "<Figure size 1200x800 with 1 Axes>"
      ]
     },
     "metadata": {},
     "output_type": "display_data"
    },
    {
     "name": "stdout",
     "output_type": "stream",
     "text": [
      "\n",
      "Test Set Evaluation:\n",
      "loss: 0.6262\n",
      "compile_metrics: 0.6405\n",
      "\u001b[1m7918/7918\u001b[0m \u001b[32m━━━━━━━━━━━━━━━━━━━━\u001b[0m\u001b[37m\u001b[0m \u001b[1m54s\u001b[0m 7ms/step\n",
      "\n",
      "Classification Report:\n",
      "                 precision    recall  f1-score   support\n",
      "\n",
      "Non-Default (0)       0.89      0.63      0.74    203872\n",
      "    Default (1)       0.31      0.67      0.42     49485\n",
      "\n",
      "       accuracy                           0.64    253357\n",
      "      macro avg       0.60      0.65      0.58    253357\n",
      "   weighted avg       0.78      0.64      0.68    253357\n",
      "\n"
     ]
    },
    {
     "data": {
      "image/png": "[encoded data removed]",
      "text/plain": [
       "<Figure size 800x600 with 2 Axes>"
      ]
     },
     "metadata": {},
     "output_type": "display_data"
    },
    {
     "data": {
      "image/png": "[encoded data removed]",
      "text/plain": [
       "<Figure size 800x600 with 1 Axes>"
      ]
     },
     "metadata": {},
     "output_type": "display_data"
    }
   ],
   "source": [
    "# # 1. Plot training history\n",
    "# pd.DataFrame(history.history).plot(figsize=(12, 8))\n",
    "# plt.grid(True)\n",
    "# plt.gca().set_ylim(0, 1) # set the y-axis range to [0,1]\n",
    "# plt.title(\"Model Training History\")\n",
    "# plt.show()\n",
    "\n",
    "# # 2. Evaluate on the test set\n",
    "# results = model.evaluate(\n",
    "#     {'text_input': X_text_test, 'static_input': X_static_test_processed},\n",
    "#     y_test,\n",
    "#     verbose=0\n",
    "# )\n",
    "# print(\"\\nTest Set Evaluation:\")\n",
    "# for name, value in zip(model.metrics_names, results):\n",
    "#     print(f\"{name}: {value:.4f}\")\n",
    "\n",
    "# # 3. Make predictions\n",
    "# y_pred_proba = model.predict({'text_input': X_text_test, 'static_input': X_static_test_processed}).ravel()\n",
    "# y_pred_class = (y_pred_proba > 0.5).astype(int) # Using 0.5 as the threshold\n",
    "\n",
    "# # 4. Classification Report\n",
    "# print(\"\\nClassification Report:\")\n",
    "# print(classification_report(y_test, y_pred_class, target_names=['Non-Default (0)', 'Default (1)']))\n",
    "\n",
    "# # 5. Confusion Matrix\n",
    "# cm = confusion_matrix(y_test, y_pred_class)\n",
    "# plt.figure(figsize=(8, 6))\n",
    "# sns.heatmap(cm, annot=True, fmt='d', cmap='Blues', xticklabels=['Non-Default', 'Default'], yticklabels=['Non-Default', 'Default'])\n",
    "# plt.xlabel('Predicted')\n",
    "# plt.ylabel('Actual')\n",
    "# plt.title('Confusion Matrix')\n",
    "# plt.show()\n",
    "\n",
    "# # 6. ROC Curve and AUC Score\n",
    "# fpr, tpr, thresholds = roc_curve(y_test, y_pred_proba)\n",
    "# roc_auc = auc(fpr, tpr)\n",
    "\n",
    "# plt.figure(figsize=(8, 6))\n",
    "# plt.plot(fpr, tpr, color='darkorange', lw=2, label=f'ROC curve (area = {roc_auc:.2f})')\n",
    "# plt.plot([0, 1], [0, 1], color='navy', lw=2, linestyle='--')\n",
    "# plt.xlim([0.0, 1.0])\n",
    "# plt.ylim([0.0, 1.05])\n",
    "# plt.xlabel('False Positive Rate')\n",
    "# plt.ylabel('True Positive Rate')\n",
    "# plt.title('Receiver Operating Characteristic (ROC) Curve')\n",
    "# plt.legend(loc=\"lower right\")\n",
    "# plt.show()"
   ]
  },
  {
   "cell_type": "code",
   "execution_count": null,
   "id": "100860ee-6792-4c6a-9bf9-7782fa7a5e7c",
   "metadata": {},
   "outputs": [
    {
     "name": "stderr",
     "output_type": "stream",
     "text": [
      "\n",
      "[notice] A new release of pip is available: 24.0 -> 25.2\n",
      "[notice] To update, run: python.exe -m pip install --upgrade pip\n"
     ]
    }
   ],
   "source": [
    "!pip install -q -U keras-tuner"
   ]
  },
  {
   "cell_type": "code",
   "execution_count": null,
   "id": "25d761cc-a984-4a38-9068-5ea3d567ef44",
   "metadata": {},
   "outputs": [],
   "source": [
    "import keras_tuner as kt\n",
    "\n",
    "def build_model(hp):\n",
    "    # --- Branch 1: Text Processing ---\n",
    "    text_input = Input(shape=(MAX_LEN,), name='text_input')\n",
    "    embedding_layer = Embedding(input_dim=VOCAB_SIZE, output_dim=EMBEDDING_DIM)(text_input)\n",
    "    \n",
    "    # TUNE: Number of filters in the Conv1D layer\n",
    "    hp_cnn_filters = hp.Int('cnn_filters', min_value=64, max_value=256, step=32)\n",
    "    conv_layer = Conv1D(filters=hp_cnn_filters, kernel_size=5, activation='relu')(embedding_layer)\n",
    "    \n",
    "    pooling_layer = GlobalMaxPooling1D()(conv_layer)\n",
    "    \n",
    "    # TUNE: Number of units in the dense layer after text processing\n",
    "    hp_text_dense_units = hp.Int('text_dense_units', min_value=16, max_value=64, step=16)\n",
    "    text_branch = Dense(units=hp_text_dense_units, activation='relu')(pooling_layer)\n",
    "\n",
    "    # --- Branch 2: Static Data Processing ---\n",
    "    static_input = Input(shape=(X_static_train_processed.shape[1],), name='static_input')\n",
    "    \n",
    "    # TUNE: Number of units in the first dense layer for static data\n",
    "    hp_static_dense_units_1 = hp.Int('static_dense_units_1', min_value=32, max_value=128, step=32)\n",
    "    static_branch = Dense(units=hp_static_dense_units_1, activation='relu')(static_input)\n",
    "\n",
    "    # TUNE: Dropout rate for static data\n",
    "    hp_dropout_1 = hp.Float('dropout_1', min_value=0.2, max_value=0.5, step=0.1)\n",
    "    static_branch = Dropout(hp_dropout_1)(static_branch)\n",
    "    \n",
    "    static_branch = Dense(units=hp_text_dense_units, activation='relu')(static_branch) # Re-use the tuned value for symmetry\n",
    "\n",
    "    # --- Concatenate Branches ---\n",
    "    combined = Concatenate()([text_branch, static_branch])\n",
    "    \n",
    "    # TUNE: Number of units in the final dense layer\n",
    "    hp_final_dense_units = hp.Int('final_dense_units', min_value=16, max_value=64, step=16)\n",
    "    combined = Dense(units=hp_final_dense_units, activation='relu')(combined)\n",
    "    \n",
    "    # TUNE: Dropout rate before the output layer\n",
    "    hp_dropout_2 = hp.Float('dropout_2', min_value=0.2, max_value=0.5, step=0.1)\n",
    "    combined = Dropout(hp_dropout_2)(combined)\n",
    "    \n",
    "    output = Dense(1, activation='sigmoid', name='output')(combined)\n",
    "    \n",
    "    model = Model(inputs=[text_input, static_input], outputs=output)\n",
    "\n",
    "    # TUNE: The learning rate for the Adam optimizer\n",
    "    hp_learning_rate = hp.Choice('learning_rate', values=[1e-2, 1e-3, 1e-4])\n",
    "    \n",
    "    model.compile(optimizer=tf.keras.optimizers.Adam(learning_rate=hp_learning_rate),\n",
    "                  loss='binary_crossentropy',\n",
    "                  metrics=['accuracy', tf.keras.metrics.AUC(name='auc')])\n",
    "    \n",
    "    return model"
   ]
  },
  {
   "cell_type": "code",
   "execution_count": null,
   "id": "9db9d698-dd52-4f40-93ce-7054d39a7388",
   "metadata": {},
   "outputs": [
    {
     "name": "stdout",
     "output_type": "stream",
     "text": [
      "Trial 30 Complete [01h 48m 32s]\n",
      "val_auc: 0.7047780156135559\n",
      "\n",
      "Best val_auc So Far: 0.7138585448265076\n",
      "Total elapsed time: 1d 16h 06m 09s\n",
      "\n",
      "The hyperparameter search is complete. \n",
      "Optimal number of filters in Conv1D layer: 96\n",
      "Optimal number of units in text dense layer: 64\n",
      "Optimal number of units in static dense layer 1: 128\n",
      "Optimal dropout rate for static branch: 0.20\n",
      "Optimal number of units in final dense layer: 48\n",
      "Optimal dropout rate for final branch: 0.40\n",
      "Optimal learning rate for the optimizer: 0.0001\n",
      "\n"
     ]
    }
   ],
   "source": [
    "# Instantiate the tuner\n",
    "tuner = kt.Hyperband(\n",
    "    build_model,\n",
    "    objective=kt.Objective(\"val_auc\", direction=\"max\"), # We want to maximize the validation AUC\n",
    "    max_epochs=10,\n",
    "    factor=3,\n",
    "    directory='keras_tuner_dir',\n",
    "    project_name='loan_default_tuning'\n",
    ")\n",
    "\n",
    "# Create a callback to stop training early if the validation loss doesn't improve\n",
    "stop_early = tf.keras.callbacks.EarlyStopping(monitor='val_loss', patience=5)\n",
    "\n",
    "# Start the search!\n",
    "# This process will take a significant amount of time.\n",
    "tuner.search(\n",
    "    x={'text_input': X_text_train, 'static_input': X_static_train_processed},\n",
    "    y=y_train,\n",
    "    epochs=50, # The tuner will manage the epochs up to max_epochs\n",
    "    validation_split=0.15,\n",
    "    callbacks=[stop_early],\n",
    "    class_weight=class_weights # Don't forget the class weights!\n",
    ")\n",
    "\n",
    "# Get the optimal hyperparameters\n",
    "best_hps = tuner.get_best_hyperparameters(num_trials=1)[0]\n",
    "\n",
    "print(f\"\"\"\n",
    "The hyperparameter search is complete. \n",
    "Optimal number of filters in Conv1D layer: {best_hps.get('cnn_filters')}\n",
    "Optimal number of units in text dense layer: {best_hps.get('text_dense_units')}\n",
    "Optimal number of units in static dense layer 1: {best_hps.get('static_dense_units_1')}\n",
    "Optimal dropout rate for static branch: {best_hps.get('dropout_1'):.2f}\n",
    "Optimal number of units in final dense layer: {best_hps.get('final_dense_units')}\n",
    "Optimal dropout rate for final branch: {best_hps.get('dropout_2'):.2f}\n",
    "Optimal learning rate for the optimizer: {best_hps.get('learning_rate')}\n",
    "\"\"\")"
   ]
  },
  {
   "cell_type": "code",
   "execution_count": null,
   "id": "1b057121-0631-48cc-b704-94ed37c5a962",
   "metadata": {},
   "outputs": [
    {
     "name": "stdout",
     "output_type": "stream",
     "text": [
      "Epoch 1/50\n",
      "\u001b[1m3365/3365\u001b[0m \u001b[32m━━━━━━━━━━━━━━━━━━━━\u001b[0m\u001b[37m\u001b[0m \u001b[1m288s\u001b[0m 84ms/step - accuracy: 0.6186 - auc: 0.6714 - loss: 0.6464 - val_accuracy: 0.6169 - val_auc: 0.7098 - val_loss: 0.6366\n",
      "Epoch 2/50\n",
      "\u001b[1m3365/3365\u001b[0m \u001b[32m━━━━━━━━━━━━━━━━━━━━\u001b[0m\u001b[37m\u001b[0m \u001b[1m286s\u001b[0m 85ms/step - accuracy: 0.6294 - auc: 0.7021 - loss: 0.6296 - val_accuracy: 0.6247 - val_auc: 0.7116 - val_loss: 0.6358\n",
      "Epoch 3/50\n",
      "\u001b[1m3365/3365\u001b[0m \u001b[32m━━━━━━━━━━━━━━━━━━━━\u001b[0m\u001b[37m\u001b[0m \u001b[1m285s\u001b[0m 85ms/step - accuracy: 0.6345 - auc: 0.7062 - loss: 0.6255 - val_accuracy: 0.6368 - val_auc: 0.7121 - val_loss: 0.6279\n",
      "Epoch 4/50\n",
      "\u001b[1m3365/3365\u001b[0m \u001b[32m━━━━━━━━━━━━━━━━━━━━\u001b[0m\u001b[37m\u001b[0m \u001b[1m283s\u001b[0m 84ms/step - accuracy: 0.6388 - auc: 0.7077 - loss: 0.6244 - val_accuracy: 0.6443 - val_auc: 0.7124 - val_loss: 0.6185\n",
      "Epoch 5/50\n",
      "\u001b[1m3365/3365\u001b[0m \u001b[32m━━━━━━━━━━━━━━━━━━━━\u001b[0m\u001b[37m\u001b[0m \u001b[1m281s\u001b[0m 84ms/step - accuracy: 0.6404 - auc: 0.7094 - loss: 0.6234 - val_accuracy: 0.6434 - val_auc: 0.7125 - val_loss: 0.6222\n",
      "Epoch 6/50\n",
      "\u001b[1m3365/3365\u001b[0m \u001b[32m━━━━━━━━━━━━━━━━━━━━\u001b[0m\u001b[37m\u001b[0m \u001b[1m286s\u001b[0m 85ms/step - accuracy: 0.6413 - auc: 0.7106 - loss: 0.6221 - val_accuracy: 0.6369 - val_auc: 0.7121 - val_loss: 0.6268\n",
      "Epoch 7/50\n",
      "\u001b[1m3365/3365\u001b[0m \u001b[32m━━━━━━━━━━━━━━━━━━━━\u001b[0m\u001b[37m\u001b[0m \u001b[1m285s\u001b[0m 85ms/step - accuracy: 0.6415 - auc: 0.7136 - loss: 0.6197 - val_accuracy: 0.6456 - val_auc: 0.7116 - val_loss: 0.6221\n",
      "Epoch 8/50\n",
      "\u001b[1m3365/3365\u001b[0m \u001b[32m━━━━━━━━━━━━━━━━━━━━\u001b[0m\u001b[37m\u001b[0m \u001b[1m288s\u001b[0m 86ms/step - accuracy: 0.6398 - auc: 0.7138 - loss: 0.6208 - val_accuracy: 0.6364 - val_auc: 0.7113 - val_loss: 0.6218\n",
      "Epoch 9/50\n",
      "\u001b[1m3365/3365\u001b[0m \u001b[32m━━━━━━━━━━━━━━━━━━━━\u001b[0m\u001b[37m\u001b[0m \u001b[1m288s\u001b[0m 85ms/step - accuracy: 0.6435 - auc: 0.7164 - loss: 0.6173 - val_accuracy: 0.6264 - val_auc: 0.7105 - val_loss: 0.6380\n",
      "\n",
      "--- Final Evaluation on Test Set with Best Model ---\n",
      "Tuned Test Set Evaluation:\n",
      "loss: 0.6368\n",
      "compile_metrics: 0.6261\n"
     ]
    }
   ],
   "source": [
    "# Build the model with the optimal hyperparameters\n",
    "best_model = tuner.hypermodel.build(best_hps)\n",
    "\n",
    "# Train the best model on the full training data\n",
    "history = best_model.fit(\n",
    "    x={'text_input': X_text_train, 'static_input': X_static_train_processed},\n",
    "    y=y_train,\n",
    "    epochs=50, \n",
    "    batch_size=256  ,\n",
    "    validation_split=0.15,\n",
    "    callbacks=[stop_early],\n",
    "    class_weight=class_weights\n",
    ")\n",
    "\n",
    "print(\"\\n--- Final Evaluation on Test Set with Best Model ---\")\n",
    "\n",
    "# Evaluate the final, tuned model on the unseen test set\n",
    "final_results = best_model.evaluate(\n",
    "    {'text_input': X_text_test, 'static_input': X_static_test_processed},\n",
    "    y_test,\n",
    "    verbose=0\n",
    ")\n",
    "\n",
    "print(\"Tuned Test Set Evaluation:\")\n",
    "for name, value in zip(best_model.metrics_names, final_results):\n",
    "    print(f\"{name}: {value:.4f}\")"
   ]
  },
  {
   "cell_type": "code",
   "execution_count": null,
   "id": "54b0af70-0f5f-4516-9201-0f56cd9f98e5",
   "metadata": {},
   "outputs": [
    {
     "name": "stdout",
     "output_type": "stream",
     "text": [
      "Epoch 1/20\n",
      "\u001b[1m3959/3959\u001b[0m \u001b[32m━━━━━━━━━━━━━━━━━━━━\u001b[0m\u001b[37m\u001b[0m \u001b[1m287s\u001b[0m 71ms/step - accuracy: 0.6273 - auc: 0.6764 - loss: 0.6442\n",
      "Epoch 2/20\n"
     ]
    },
    {
     "name": "stderr",
     "output_type": "stream",
     "text": [
      "c:\\python\\Lib\\site-packages\\keras\\src\\callbacks\\early_stopping.py:153: UserWarning: Early stopping conditioned on metric `val_loss` which is not available. Available metrics are: accuracy,auc,loss\n",
      "  current = self.get_monitor_value(logs)\n"
     ]
    },
    {
     "name": "stdout",
     "output_type": "stream",
     "text": [
      "\u001b[1m3959/3959\u001b[0m \u001b[32m━━━━━━━━━━━━━━━━━━━━\u001b[0m\u001b[37m\u001b[0m \u001b[1m273s\u001b[0m 69ms/step - accuracy: 0.6336 - auc: 0.7035 - loss: 0.6275\n",
      "Epoch 3/20\n",
      "\u001b[1m3959/3959\u001b[0m \u001b[32m━━━━━━━━━━━━━━━━━━━━\u001b[0m\u001b[37m\u001b[0m \u001b[1m339s\u001b[0m 86ms/step - accuracy: 0.6358 - auc: 0.7064 - loss: 0.6255\n",
      "Epoch 4/20\n",
      "\u001b[1m3959/3959\u001b[0m \u001b[32m━━━━━━━━━━━━━━━━━━━━\u001b[0m\u001b[37m\u001b[0m \u001b[1m442s\u001b[0m 112ms/step - accuracy: 0.6389 - auc: 0.7087 - loss: 0.6244\n",
      "Epoch 5/20\n",
      "\u001b[1m3959/3959\u001b[0m \u001b[32m━━━━━━━━━━━━━━━━━━━━\u001b[0m\u001b[37m\u001b[0m \u001b[1m512s\u001b[0m 129ms/step - accuracy: 0.6401 - auc: 0.7096 - loss: 0.6232\n",
      "Epoch 6/20\n",
      "\u001b[1m3959/3959\u001b[0m \u001b[32m━━━━━━━━━━━━━━━━━━━━\u001b[0m\u001b[37m\u001b[0m \u001b[1m673s\u001b[0m 170ms/step - accuracy: 0.6407 - auc: 0.7115 - loss: 0.6218\n",
      "Epoch 7/20\n",
      "\u001b[1m3959/3959\u001b[0m \u001b[32m━━━━━━━━━━━━━━━━━━━━\u001b[0m\u001b[37m\u001b[0m \u001b[1m441s\u001b[0m 109ms/step - accuracy: 0.6400 - auc: 0.7108 - loss: 0.6216\n",
      "Epoch 8/20\n",
      "\u001b[1m3959/3959\u001b[0m \u001b[32m━━━━━━━━━━━━━━━━━━━━\u001b[0m\u001b[37m\u001b[0m \u001b[1m336s\u001b[0m 85ms/step - accuracy: 0.6422 - auc: 0.7135 - loss: 0.6192\n",
      "Epoch 9/20\n",
      "\u001b[1m3959/3959\u001b[0m \u001b[32m━━━━━━━━━━━━━━━━━━━━\u001b[0m\u001b[37m\u001b[0m \u001b[1m370s\u001b[0m 93ms/step - accuracy: 0.6415 - auc: 0.7154 - loss: 0.6188\n",
      "Epoch 10/20\n",
      "\u001b[1m3959/3959\u001b[0m \u001b[32m━━━━━━━━━━━━━━━━━━━━\u001b[0m\u001b[37m\u001b[0m \u001b[1m380s\u001b[0m 96ms/step - accuracy: 0.6406 - auc: 0.7173 - loss: 0.6176\n",
      "Epoch 11/20\n",
      "\u001b[1m3959/3959\u001b[0m \u001b[32m━━━━━━━━━━━━━━━━━━━━\u001b[0m\u001b[37m\u001b[0m \u001b[1m418s\u001b[0m 105ms/step - accuracy: 0.6444 - auc: 0.7197 - loss: 0.6143\n",
      "Epoch 12/20\n",
      "\u001b[1m3959/3959\u001b[0m \u001b[32m━━━━━━━━━━━━━━━━━━━━\u001b[0m\u001b[37m\u001b[0m \u001b[1m397s\u001b[0m 100ms/step - accuracy: 0.6410 - auc: 0.7188 - loss: 0.6153\n",
      "Epoch 13/20\n",
      "\u001b[1m3959/3959\u001b[0m \u001b[32m━━━━━━━━━━━━━━━━━━━━\u001b[0m\u001b[37m\u001b[0m \u001b[1m433s\u001b[0m 109ms/step - accuracy: 0.6434 - auc: 0.7211 - loss: 0.6129\n",
      "Epoch 14/20\n",
      "\u001b[1m3959/3959\u001b[0m \u001b[32m━━━━━━━━━━━━━━━━━━━━\u001b[0m\u001b[37m\u001b[0m \u001b[1m410s\u001b[0m 104ms/step - accuracy: 0.6457 - auc: 0.7214 - loss: 0.6116\n",
      "Epoch 15/20\n",
      "\u001b[1m3959/3959\u001b[0m \u001b[32m━━━━━━━━━━━━━━━━━━━━\u001b[0m\u001b[37m\u001b[0m \u001b[1m290s\u001b[0m 73ms/step - accuracy: 0.6458 - auc: 0.7227 - loss: 0.6114\n",
      "Epoch 16/20\n",
      "\u001b[1m3959/3959\u001b[0m \u001b[32m━━━━━━━━━━━━━━━━━━━━\u001b[0m\u001b[37m\u001b[0m \u001b[1m292s\u001b[0m 74ms/step - accuracy: 0.6432 - auc: 0.7234 - loss: 0.6110\n",
      "Epoch 17/20\n",
      "\u001b[1m3959/3959\u001b[0m \u001b[32m━━━━━━━━━━━━━━━━━━━━\u001b[0m\u001b[37m\u001b[0m \u001b[1m282s\u001b[0m 71ms/step - accuracy: 0.6411 - auc: 0.7236 - loss: 0.6100\n",
      "Epoch 18/20\n",
      "\u001b[1m3959/3959\u001b[0m \u001b[32m━━━━━━━━━━━━━━━━━━━━\u001b[0m\u001b[37m\u001b[0m \u001b[1m281s\u001b[0m 71ms/step - accuracy: 0.6501 - auc: 0.7250 - loss: 0.6075\n",
      "Epoch 19/20\n",
      "\u001b[1m3959/3959\u001b[0m \u001b[32m━━━━━━━━━━━━━━━━━━━━\u001b[0m\u001b[37m\u001b[0m \u001b[1m284s\u001b[0m 72ms/step - accuracy: 0.6488 - auc: 0.7261 - loss: 0.6083\n",
      "Epoch 20/20\n",
      "\u001b[1m3959/3959\u001b[0m \u001b[32m━━━━━━━━━━━━━━━━━━━━\u001b[0m\u001b[37m\u001b[0m \u001b[1m285s\u001b[0m 72ms/step - accuracy: 0.6468 - auc: 0.7270 - loss: 0.6077\n"
     ]
    }
   ],
   "source": [
    "# Build the final model with the best hyperparameters found by the tuner\n",
    "final_model = tuner.hypermodel.build(best_hps)\n",
    "\n",
    "# Train this model on the ENTIRE training set for a suitable number of epochs\n",
    "# We no longer need a validation_split here\n",
    "history = final_model.fit(\n",
    "    x={'text_input': X_text_train, 'static_input': X_static_train_processed},\n",
    "    y=y_train,\n",
    "    epochs=20, \n",
    "    batch_size=256,\n",
    "    class_weight=class_weights,\n",
    "    callbacks=[stop_early] \n",
    ")"
   ]
  },
  {
   "cell_type": "code",
   "execution_count": null,
   "id": "be0cc56e-94bc-4610-8dc7-48209ec078f1",
   "metadata": {},
   "outputs": [
    {
     "name": "stderr",
     "output_type": "stream",
     "text": [
      "WARNING:absl:You are saving your model as an HDF5 file via `model.save()` or `keras.saving.save_model(model)`. This file format is considered legacy. We recommend using instead the native Keras format, e.g. `model.save('my_model.keras')` or `keras.saving.save_model(model, 'my_model.keras')`. \n"
     ]
    }
   ],
   "source": [
    "import joblib\n",
    "\n",
    "# 1. Save the trained Keras model\n",
    "final_model.save('loan_default_model1.h5')"
   ]
  },
  {
   "cell_type": "code",
   "execution_count": null,
   "id": "be31cab3-d947-4fe2-967a-d58d5194fd05",
   "metadata": {},
   "outputs": [
    {
     "data": {
      "text/plain": [
       "['tokenizer1.pkl']"
      ]
     },
     "execution_count": 36,
     "metadata": {},
     "output_type": "execute_result"
    }
   ],
   "source": [
    "# 2. Save the text tokenizer\n",
    "joblib.dump(tokenizer, 'tokenizer1.pkl')"
   ]
  },
  {
   "cell_type": "code",
   "execution_count": null,
   "id": "557ded0e-044f-4dcc-be22-bf1741913416",
   "metadata": {},
   "outputs": [
    {
     "name": "stdout",
     "output_type": "stream",
     "text": [
      "Model and processing artifacts saved successfully!\n"
     ]
    }
   ],
   "source": [
    "# 3. Save the static data preprocessor\n",
    "joblib.dump(preprocessor, 'preprocessor1.pkl')\n",
    "print(\"Model and processing artifacts saved successfully!\")"
   ]
  },
  {
   "cell_type": "code",
   "execution_count": null,
   "id": "a37148a5",
   "metadata": {},
   "outputs": [],
   "source": [
    "import joblib\n",
    "import pandas as pd\n",
    "from tensorflow.keras.models import load_model\n",
    "from tensorflow.keras.preprocessing.sequence import pad_sequences\n",
    "\n",
    "# --- Define the Prediction Function ---\n",
    "\n",
    "def predict_loan_default(new_data):\n",
    "    \"\"\"\n",
    "    Loads artifacts and predicts default probability for new loan data.\n",
    "    \n",
    "    Args:\n",
    "        new_data (pd.DataFrame): A DataFrame with one or more rows of new loan applications.\n",
    "                                 Must contain the same columns as the training data.\n",
    "                                 \n",
    "    Returns:\n",
    "        np.ndarray: An array of prediction probabilities.\n",
    "    \"\"\"\n",
    "    # 1. Load the saved artifacts\n",
    "    model = load_model(r'D:/DL_Project/loan_default_model1.h5')\n",
    "    tokenizer = joblib.load(r'D:/DL_Project/tokenizer1.pkl')\n",
    "    preprocessor = joblib.load(r'D:/DL_Project/preprocessor1.pkl')\n",
    "    \n",
    "    # 2. Prepare the input data\n",
    "    # Combine text features for tokenization\n",
    "    new_text_data = new_data['title'].fillna('') + ' ' + new_data['purpose']\n",
    "    \n",
    "    # Select static features for preprocessing\n",
    "    static_features_cols = preprocessor.feature_names_in_\n",
    "    new_static_data = new_data[static_features_cols]\n",
    "    \n",
    "    # 3. Process the data using the loaded artifacts\n",
    "    # Process text data\n",
    "    new_sequences = tokenizer.texts_to_sequences(new_text_data)\n",
    "    padded_new_sequences = pad_sequences(new_sequences, maxlen=50, padding='post', truncating='post')\n",
    "    \n",
    "    # Process static data\n",
    "    processed_new_static = preprocessor.transform(new_static_data)\n",
    "    \n",
    "    # 4. Make a prediction\n",
    "    prediction_proba = model.predict({\n",
    "        'text_input': padded_new_sequences,\n",
    "        'static_input': processed_new_static\n",
    "    })\n",
    "    \n",
    "    return prediction_proba"
   ]
  },
  {
   "cell_type": "code",
   "execution_count": null,
   "id": "3ad8dffa",
   "metadata": {},
   "outputs": [
    {
     "name": "stderr",
     "output_type": "stream",
     "text": [
      "WARNING:absl:Compiled the loaded model, but the compiled metrics have yet to be built. `model.compile_metrics` will be empty until you train or evaluate the model.\n"
     ]
    },
    {
     "name": "stdout",
     "output_type": "stream",
     "text": [
      "\u001b[1m1/1\u001b[0m \u001b[32m━━━━━━━━━━━━━━━━━━━━\u001b[0m\u001b[37m\u001b[0m \u001b[1m1s\u001b[0m 531ms/step\n",
      "Sample Loan Application Data:\n",
      "                                           0\n",
      "loan_amnt                              15000\n",
      "int_rate                                12.5\n",
      "installment                           501.77\n",
      "annual_inc                             75000\n",
      "dti                                     18.5\n",
      "grade                                      C\n",
      "emp_length                         10+ years\n",
      "home_ownership                      MORTGAGE\n",
      "verification_status                 Verified\n",
      "purpose                   debt_consolidation\n",
      "title                Debt Consolidation Loan\n",
      "\n",
      "Predicted Default Probability: 44.60%\n"
     ]
    }
   ],
   "source": [
    "# Create a sample DataFrame mimicking a new loan application\n",
    "# NOTE: The values here are for demonstration purposes.\n",
    "sample_application = pd.DataFrame({\n",
    "    'loan_amnt': [15000],\n",
    "    'int_rate': [12.5],\n",
    "    'installment': [501.77],\n",
    "    'annual_inc': [75000],\n",
    "    'dti': [18.5],\n",
    "    'grade': ['C'],\n",
    "    'emp_length': ['10+ years'],\n",
    "    'home_ownership': ['MORTGAGE'],\n",
    "    'verification_status': ['Verified'],\n",
    "    'purpose': ['debt_consolidation'],\n",
    "    'title': ['Debt Consolidation Loan']\n",
    "})\n",
    "\n",
    "# Get the prediction\n",
    "predicted_probability = predict_loan_default(sample_application)\n",
    "\n",
    "print(f\"Sample Loan Application Data:\\n{sample_application.T}\\n\")\n",
    "print(f\"Predicted Default Probability: {predicted_probability[0][0] * 100:.2f}%\")"
   ]
  },
  {
   "cell_type": "code",
   "execution_count": null,
   "id": "73cf2c17",
   "metadata": {},
   "outputs": [
    {
     "ename": "NameError",
     "evalue": "name 'shap' is not defined",
     "output_type": "error",
     "traceback": [
      "\u001b[31m---------------------------------------------------------------------------\u001b[39m",
      "\u001b[31mNameError\u001b[39m                                 Traceback (most recent call last)",
      "\u001b[36mCell\u001b[39m\u001b[36m \u001b[39m\u001b[32mIn[40]\u001b[39m\u001b[32m, line 26\u001b[39m\n\u001b[32m     23\u001b[39m     text_data_tiled = np.tile(background_text, (num_samples, \u001b[32m1\u001b[39m))\n\u001b[32m     24\u001b[39m     \u001b[38;5;28;01mreturn\u001b[39;00m model.predict({\u001b[33m'\u001b[39m\u001b[33mtext_input\u001b[39m\u001b[33m'\u001b[39m: text_data_tiled, \u001b[33m'\u001b[39m\u001b[33mstatic_input\u001b[39m\u001b[33m'\u001b[39m: x_static})\n\u001b[32m---> \u001b[39m\u001b[32m26\u001b[39m explainer = \u001b[43mshap\u001b[49m.KernelExplainer(predict_for_shap, background_static)\n\u001b[32m     27\u001b[39m \u001b[38;5;28mprint\u001b[39m(\u001b[33m\"\u001b[39m\u001b[33mSHAP explainer created successfully!\u001b[39m\u001b[33m\"\u001b[39m)\n",
      "\u001b[31mNameError\u001b[39m: name 'shap' is not defined"
     ]
    }
   ],
   "source": [
    "# --- Create SHAP Explainer (runs once at startup) ---\n",
    "\n",
    "# Get the list of categorical and numerical feature names from the preprocessor\n",
    "categorical_features = preprocessor.named_transformers_['cat'].feature_names_in_\n",
    "numerical_features = preprocessor.named_transformers_['num'].feature_names_in_\n",
    "\n",
    "# Create a dummy DataFrame with one row of placeholder data\n",
    "background_data = {}\n",
    "for col in numerical_features:\n",
    "    background_data[col] = [0]  # Placeholder for numerical columns\n",
    "for col in categorical_features:\n",
    "    background_data[col] = ['missing'] # Placeholder for categorical columns\n",
    "\n",
    "background_static_df = pd.DataFrame(background_data)\n",
    "\n",
    "# Now, transform this correctly-typed DataFrame\n",
    "background_static = preprocessor.transform(background_static_df)\n",
    "background_text = np.zeros((1, 50))\n",
    "\n",
    "# Define a prediction function that SHAP can use\n",
    "def predict_for_shap(x_static):\n",
    "    num_samples = x_static.shape[0]\n",
    "    text_data_tiled = np.tile(background_text, (num_samples, 1))\n",
    "    return model.predict({'text_input': text_data_tiled, 'static_input': x_static})\n",
    "\n",
    "explainer = shap.KernelExplainer(predict_for_shap, background_static)\n",
    "print(\"SHAP explainer created successfully!\")"
   ]
  }
 ],
 "metadata": {
  "kernelspec": {
   "display_name": "Python 3",
   "language": "python",
   "name": "python3"
  },
  "language_info": {
   "codemirror_mode": {
    "name": "ipython",
    "version": 3
   },
   "file_extension": ".py",
   "mimetype": "text/x-python",
   "name": "python",
   "nbconvert_exporter": "python",
   "pygments_lexer": "ipython3",
   "version": "3.11.9"
  }
 },
 "nbformat": 4,
 "nbformat_minor": 5
}
